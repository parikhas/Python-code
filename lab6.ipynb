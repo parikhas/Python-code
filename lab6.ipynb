{
 "cells": [
  {
   "cell_type": "code",
   "execution_count": 12,
   "metadata": {},
   "outputs": [
    {
     "name": "stdout",
     "output_type": "stream",
     "text": [
      "Intron\n",
      "GTTTCTCCCATCTCTCCATCGGCATAAAAATACAG 5 \n",
      "\n",
      "Coding regions\n",
      "ATGGTTTCTCCCATCTCTCCATCGGCATAA 2\n",
      "Coding regions\n",
      "ATGATCTAA 41\n"
     ]
    }
   ],
   "source": [
    "import re\n",
    "dna = 'AATGGTTTCTCCCATCTCTCCATCGGCATAAAAATACAGAATGATCTAACGAA'\n",
    "intron = re.compile(\"GT.*?AG\")\n",
    "for m in intron.finditer(dna):\n",
    "    print 'Intron'\n",
    "    print m.group(), m.start()+1,\"\\n\"\n",
    "\n",
    "coding = re.compile(\"ATG.*?(TAG|TAA|TGA)\")\n",
    "for m in coding.finditer(dna):\n",
    "    print 'Coding regions'\n",
    "    print m.group(), m.start()+1"
   ]
  },
  {
   "cell_type": "code",
   "execution_count": null,
   "metadata": {},
   "outputs": [],
   "source": []
  }
 ],
 "metadata": {
  "kernelspec": {
   "display_name": "Python 2",
   "language": "python",
   "name": "python2"
  },
  "language_info": {
   "codemirror_mode": {
    "name": "ipython",
    "version": 2
   },
   "file_extension": ".py",
   "mimetype": "text/x-python",
   "name": "python",
   "nbconvert_exporter": "python",
   "pygments_lexer": "ipython2",
   "version": "2.7.12"
  }
 },
 "nbformat": 4,
 "nbformat_minor": 2
}
