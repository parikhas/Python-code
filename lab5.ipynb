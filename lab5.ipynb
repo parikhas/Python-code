{
 "cells": [
  {
   "cell_type": "code",
   "execution_count": 118,
   "metadata": {},
   "outputs": [
    {
     "name": "stdout",
     "output_type": "stream",
     "text": [
      "Looking for pattern 1 = CAC[ATGC]{3}\n",
      "CACGGC 6\n",
      "CACCAT 28\n",
      "CACGAA 66\n",
      "CACACT 171\n",
      "CACTAG 308\n",
      "CACACT 327\n",
      "CACTCA 369\n",
      "CACTTA 445\n",
      "CACCAC 526\n",
      "CACAGT 585\n",
      "CACAGG 720\n",
      "CACCCA 794\n",
      "CACTCC 825\n",
      "CACATA 879\n",
      "CACTCT 915\n",
      "\n",
      "Looking for pattern 2 = GCC[AT]GG\n",
      "GCCTGG 889\n"
     ]
    }
   ],
   "source": [
    "import re\n",
    "dna1 =\"\"\"AACAGCACGGCAACGCTGTGCCTTGGGCACCATGCAGTACCAAACGGAACGATAGTGAAAACAATCACGAATGACCAAATTGAAGTTACTAATGCTACTGAGCTGGTTCAGAGTTCCTCAACAGGTGAAATATGCGACAGTCCTCATCAGATCCTTGATGGAGAAAACTGCACACTAATAGATGCTCTATTGGGAGACCCTCAGTGTGATGGCTTCCAAAATAAGAAATGGGACCTTTTTGTTGAACGCAGCAAAGCCTACAGCAACTGTTACCCTTATGATGTGCCGGATTATGCCTCCCTTAGGTCACTAGTTGCCTCATCCGGCACACTGGAATTTAACAATGAAAGCTTCAATTGGACTGGAGTCACTCAAAATGGAATCAGCTCTGCTTGCAAAAGGAGATCTAATAACAGTTTCTTTAGTAGATTGAATTGGTTGACCCACTTAAAATTCAAATACCCAGCATTGAACGTGACTATGCCAAACAATGAAAAATTTGACAAATTGTACATTTGGGGGGTTCACCACCCGGGTACGGACAATGACCAAATCTTCCTGTATGCTCAAGCATCAGGAAGAATCACAGTCTCTACCAAAAGAAGCCAACAGACTGTAATCCCGAATATCGGATCTAGACCCAGAGTAAGGAATATCCCCAGCAGAATAAGCATCTATTGGACAATAGTAAAACCGGGAGACATACTTTTGATTAACAGCACAGGGAATTTAATTGCTCCTAGGGGTTACTTCAAAATACGAAGTGGGAAAAGCTCAATAATGAGATCAGATGCACCCATTGGCAAATGCAATTCTGAATGCATCACTCCAAATGGAAGCATTCCCAATGACAAACCATTTCAAAATGTAAACAGGATCACATATGGGGCCTGGCCCAGATATGTTAAGCAAAACACTCTGAAATTGGCAACAGGGATGCGAAATGTACCAGAGAAACAAACTAGAGGCATATTTGGCGCAATCGCGGGTTTCATAGAAAATGGTTGGGAAGGAATGGTGGATGGTTGGTACGGTTT\"\"\"\n",
    "\n",
    "#dna1.rstrip\n",
    "#dna1.replace(\" \", \"\")\n",
    "#dna1.replace(\"\\n\", \"\")\n",
    "#dna1.replace(\"\\r\", \"\")\n",
    "\n",
    "#re.match(\"CAC[ATGC]{3}\", dna1)\n",
    "#re.search(\"CAC[ATGC]{3}\", dna1)\n",
    "\n",
    "my_string1 = re.compile(\"CAC[ATGC]{3}\")\n",
    "#my_string.findall(dna1)\n",
    "print 'Looking for pattern 1 = CAC[ATGC]{3}'\n",
    "\n",
    "for m in my_string1.finditer(dna1):\n",
    "    print m.group(), m.start()+1\n",
    "    \n",
    "print '\\nLooking for pattern 2 = GCC[AT]GG'\n",
    "\n",
    "my_string2 = re.compile(\"GCC[AT]GG\")\n",
    "for m in my_string2.finditer(dna1):\n",
    "    print m.group(), m.start()+1\n",
    "\n"
   ]
  },
  {
   "cell_type": "code",
   "execution_count": 112,
   "metadata": {},
   "outputs": [
    {
     "name": "stdout",
     "output_type": "stream",
     "text": [
      "50:30:30:34:35:30:3b:20:51:31:34:30:36:33:0a\n",
      "Saw new as P00450; Q14063\n",
      " After new\n",
      ">P00450; Q14063\n",
      " | Homo sapiens (Human)\n",
      " | NCBI_TaxID=9606;\n",
      " | 1065 AA | CP.\n",
      "MKILILGIFLFLCSTPAWAKEKHYYIGIIETTWDYASDHGEKKLISVDTEHSNIYLQNGPDRIGRLYKKALYLQYTDETFRTTIEKPVWLGFLGPIIKAETGDKVYVHLKNLASRPYTFHSHGITYYKEHEGAIYPDNTTDFQRADDKVYPGEQYTYMLLATEEQSPGEGDGNCVTRIYHSHIDAPKDIASGLIGPLIICKKDSLDKEKEKHIDREFVVMFSVVDENFSWYLEDNIKTYCSEPEKVDKDNEDFQESNRMYSVNGYTFGSLPGLSMCAEDRVKWYLFGMGNEVDVHAAFFHGQALTNKNYRIDTINLFPATLFDAYMVAQNPGEWMLSCQNLNHLKAGLQAFFQVQECNKSSSKDNIRGKHVRHYYIAAEEIIWNYAPSGIDIFTKENLTAPGSDSAVFFEQGTTRIGGSYKKLVYREYTDASFTNRKERGPEEEHLGILGPVIWAEVGDTIRVTFHNKGAYPLSIEPIGVRFNKNNEGTYYSPNYNPQSRSVPPSASHVAPTETFTYEWTVPKEVGPTNADPVCLAKMYYSAVDPTKDIFTGLIGPMKICKKGSLHANGRQKDVDKEFYLFPTVFDENESLLLEDNIRMFTTAPDQVDKEDEDFQESNKMHSMNGFMYGNQPGLTMCKGDSVVWYLFSAGNEADVHGIYFSGNTYLWRGERRDTANLFPQTSLTLHMWPDTEGTFNVECLTTDHYTGGMKQKYTVNQCRRQSEDSTFYLGERTYYIAAVEVEWDYSPQREWEKELHHLQEQNVSNAFLDKGEFYIGSKYKKVVYRQYTDSTFRVPVERKAEEEHLGILGPQLHADVGDKVKIIFKNMATRPYSIHAHGVQTESSTVTPTLPGETLTYVWKIPERSGAGTEDSACIPWAYYSTVDQVKDLYSGLIGPLIVCRRPYLKVFNPRRKLEFALLFLVFDENESWYLDDNIKTYSDHPEKVNKDDEEFIESNKMHAINGRMFGNLQGLTMHVGDEVNWYLMGMGNEIDLHTVHFHGHSFQYKHRGVYSSDVFDIFPGTYQTLEMFPRTPGIWLLHCHVTDHIHAGMETTYTVLQNEDTKSG\n"
     ]
    }
   ],
   "source": [
    "import re\n",
    "#filehandle = open('example.sp', \"r\")\n",
    "data = \"\"\n",
    "with open(\"example.sp\",\"r\") as fi:\n",
    "    for line in fi:\n",
    "        if line.startswith(\"AC\"):\n",
    "            AC = line[5:]\n",
    "            new = AC.replace(\"3;\", \"3\")\n",
    "            output = \":\".join(\"{:02x}\".format(ord(c)) for c in new)\n",
    "            print output\n",
    "            new.rstrip()\n",
    "            print \"Saw new as \" + new + \" After new\"\n",
    "        if line.startswith(\"OS\"):\n",
    "            OS = line[5:]\n",
    "            newOS = OS.replace(\".\", \"\")\n",
    "        if line.startswith(\"OX\"):\n",
    "            OX = line[5:]\n",
    "        if line.startswith(\"ID\"):\n",
    "            ID = line\n",
    "            ID4 = ID.split()[4]\n",
    "            ID5 = ID.split()[5]\n",
    "            fin_id = ID5.replace(\".\", \"\")\n",
    "        if line.startswith(\"GN\"):\n",
    "            GN = line[5:]\n",
    "        if line.startswith( \"SQ\" ):\n",
    "              for line in fi:\n",
    "                    data+=str(line)\n",
    "                    d = filter(str.isalnum, data)\n",
    "                    \n",
    "        \n",
    "\n",
    "print \">\"+new+\" | \"+newOS+\" | \"+OX+\" | \"+ID4, fin_id+\" | \"+GN, d\n",
    "\n",
    "\n"
   ]
  },
  {
   "cell_type": "code",
   "execution_count": 121,
   "metadata": {},
   "outputs": [
    {
     "name": "stdout",
     "output_type": "stream",
     "text": [
      "AVVAAVMW 325\n",
      "VAVLMLCL 170\n",
      "LLALVAIF 493\n",
      "IWICWFAA 705\n",
      "LALALAFA 970\n"
     ]
    }
   ],
   "source": [
    "fh = open(\"test.fasta\", \"r\")\n",
    "string = re.compile(\"[VILMFWCA]{8}\")\n",
    "for line in fh:\n",
    "    line.rstrip('\\n')\n",
    "    if line.startswith('>'):\n",
    "        header = line\n",
    "        for sequence in fh:\n",
    "            sequence.rstrip()\n",
    "            for m in string.finditer(sequence):\n",
    "                print m.group(), m.start()+1\n",
    "            \n",
    "            \n",
    "            "
   ]
  },
  {
   "cell_type": "code",
   "execution_count": 162,
   "metadata": {},
   "outputs": [
    {
     "name": "stdout",
     "output_type": "stream",
     "text": [
      ">P30450 | Homo sapiens (Human). | NCBI_TaxID=9606; | 365 |    Name=HLA-A; Synonyms=HLAA;\n",
      "\n",
      "AVVAAVMW 325\n",
      "\n",
      ">A7MBM2 | Homo sapiens (Human). | NCBI_TaxID=9606; | 1401 |    Name=DISP2; Synonyms=DISPB, KIAA1742;\n",
      "\n",
      "VAVLMLCL 170\n",
      "LLALVAIF 493\n",
      "IWICWFAA 705\n",
      "LALALAFA 970\n",
      "\n",
      "2\n"
     ]
    }
   ],
   "source": [
    "fh = open(\"test.fasta\", \"r\")\n",
    "string = re.compile(\"[VILMFWCA]{8}\")\n",
    "\n",
    "counter = 0\n",
    "for line in fh:\n",
    "    line.rstrip()\n",
    "    #for sequence in fh:\n",
    "    \n",
    "    sequence = fh.next()\n",
    "    sequence.rstrip()\n",
    "    headerLinePrinted = False\n",
    "#    shouldIPrintNewline = False\n",
    "\n",
    "    for m in string.finditer(sequence):\n",
    "        \n",
    "        if (headerLinePrinted == False):\n",
    "            print line\n",
    "            \n",
    "            headerLinePrinted = True\n",
    "        \n",
    "#        shouldIPrintNewline = True\n",
    "        \n",
    "        print m.group(), m.start()+1\n",
    "\n",
    "    if (headerLinePrinted):\n",
    "        counter = counter + 1\n",
    "        print \"\"\n",
    "\n",
    "print counter\n"
   ]
  },
  {
   "cell_type": "code",
   "execution_count": 149,
   "metadata": {},
   "outputs": [
    {
     "name": "stdout",
     "output_type": "stream",
     "text": [
      ">P30450 | Homo sapiens (Human). | NCBI_TaxID=9606; | 365 |    Name=HLA-A; Synonyms=HLAA;\n",
      "MAVMAPRTLVLLLSGALALTQTWAGSHSMRYFYTSVSRPGRGEPRFIAVGYVDDTQFVRFDSDAASQRMEPRAPWIEQEGPEYWDRNTRNVKAHSQTDRANLGTLRGYYNQSEDGSHTIQRMYGCDVGPDGRFLRGYQQDAYDGKDYIALNEDLRSWTAADMAAQITQRKWETAHEAEQWRAYLEGRCVEWLRRYLENGKETLQRTDAPKTHMTHHAVSDHEATLRCWALSFYPAEITLTWQRDGEDQTQDTELVETRPAGDGTFQKWASVVVPSGQEQRYTCHVQHEGLPKPLTLRWEPSSQPTIPIVGIIAGLVLFGAVIAGAVVAAVMWRRKSSDRKGGSYSQAASSDSAQGSDMSLTACKV\n",
      "\n",
      "LALALAFA 970\n"
     ]
    }
   ],
   "source": [
    "header_list = []\n",
    "line_list = []\n",
    "\n",
    "string = re.compile(\"[VILMFWCA]{8}\")\n",
    "\n",
    "def function(file):\n",
    "    with open(file) as f:\n",
    "        for index, line in enumerate(f):\n",
    "            line.rstrip('\\n')\n",
    "            line_list.append(line)\n",
    "            for m in string.finditer(line):\n",
    "                header_list.append(index)\n",
    "                return m.group(), m.start()+1\n",
    "                \n",
    "function('test.fasta')\n",
    "\n",
    "for index in index_list:\n",
    "    print line_list[index-1], line_list[index]\n",
    "    print m.group(), m.start()+1"
   ]
  },
  {
   "cell_type": "code",
   "execution_count": null,
   "metadata": {},
   "outputs": [],
   "source": []
  }
 ],
 "metadata": {
  "kernelspec": {
   "display_name": "Python 2",
   "language": "python",
   "name": "python2"
  },
  "language_info": {
   "codemirror_mode": {
    "name": "ipython",
    "version": 2
   },
   "file_extension": ".py",
   "mimetype": "text/x-python",
   "name": "python",
   "nbconvert_exporter": "python",
   "pygments_lexer": "ipython2",
   "version": "2.7.12"
  }
 },
 "nbformat": 4,
 "nbformat_minor": 2
}
