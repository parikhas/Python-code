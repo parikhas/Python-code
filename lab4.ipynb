{
 "cells": [
  {
   "cell_type": "code",
   "execution_count": null,
   "metadata": {},
   "outputs": [],
   "source": [
    "\"\"\"\n",
    "Part1: Make a function to which reverse a dna sequence and return this new reversed sequence to your main program. Print both\n",
    "the original and the returned sequence in the main program\n",
    "\"\"\""
   ]
  },
  {
   "cell_type": "code",
   "execution_count": 10,
   "metadata": {},
   "outputs": [
    {
     "name": "stdout",
     "output_type": "stream",
     "text": [
      "atggttt\n",
      "tttggta\n"
     ]
    }
   ],
   "source": [
    "dna1 = 'atggttt'\n",
    "\n",
    "print (dna1)\n",
    "\n",
    "def reverseSequence(seq):\n",
    "#     [::-1] if for reversing the sequence\n",
    "#    reverse = seq[::-1]\n",
    "    reverse = ''.join(reversed(seq))\n",
    "    return reverse\n",
    "print (reverseSequence(dna1))\n",
    "\n"
   ]
  },
  {
   "cell_type": "code",
   "execution_count": null,
   "metadata": {},
   "outputs": [],
   "source": [
    "\"\"\"\n",
    "Part 2: Reading and writing to files.\n",
    "Write a program that:\n",
    "1. Reads in /scratch/SampleDataFiles/sampleBlastOutput.txt\n",
    "2. The percent identity (you'll learn more about this when we get to BLAST) will be\n",
    "at index 2 and if it is greater than 70, print the query ID, subject ID, percent\n",
    "identity, and alignment length\n",
    "\"\"\""
   ]
  },
  {
   "cell_type": "code",
   "execution_count": 13,
   "metadata": {},
   "outputs": [
    {
     "name": "stdout",
     "output_type": "stream",
     "text": [
      "c14027_g1_i1 \t gi|349579703|dbj|GAA24864.1| \t 73.68 \t 114\n",
      "c14027_g1_i1 \t gi|323353877|gb|EGA85730.1| \t 73.68 \t 114\n",
      "c14027_g1_i1 \t gi|168062156|ref|XP_001783048.1| \t 78.07 \t 114\n",
      "c14027_g1_i1 \t gi|475550294|gb|EMT11425.1| \t 76.32 \t 114\n",
      "c14027_g1_i1 \t gi|365759571|gb|EHN01353.1| \t 73.68 \t 114\n",
      "c14027_g1_i1 \t gi|445065992|gb|AGE13867.1| \t 72.81 \t 114\n",
      "c14027_g1_i1 \t gi|350543532|gb|AEQ29955.1| \t 71.05 \t 114\n",
      "c14027_g1_i1 \t gi|219885633|gb|ACL53191.1| \t 76.32 \t 114\n",
      "c14027_g1_i1 \t gi|527195873|gb|EPS64948.1| \t 78.95 \t 114\n",
      "c14027_g1_i1 \t gi|207343245|gb|EDZ70769.1| \t 73.68 \t 114\n",
      "c14027_g1_i1 \t gi|255078174|ref|XP_002502667.1| \t 77.19 \t 114\n",
      "c14027_g1_i1 \t gi|557531085|gb|ESR42268.1| \t 78.95 \t 114\n",
      "c14027_g1_i1 \t gi|225440324|ref|XP_002263599.1| \t 78.95 \t 114\n",
      "c14027_g1_i1 \t gi|358058675|dbj|GAA95638.1| \t 75.44 \t 114\n",
      "c14027_g1_i1 \t gi|195396075|ref|XP_002056658.1| \t 71.93 \t 114\n",
      "c14027_g1_i1 \t gi|470143179|ref|XP_004307259.1| \t 78.95 \t 114\n",
      "c14027_g1_i1 \t gi|357503161|ref|XP_003621869.1| \t 78.95 \t 114\n",
      "c14027_g1_i1 \t gi|514749399|ref|XP_004961848.1| \t 78.95 \t 114\n",
      "c14027_g1_i1 \t gi|508726282|gb|EOY18179.1| \t 78.95 \t 114\n",
      "c14027_g1_i1 \t gi|193587299|ref|XP_001949837.1| \t 72.81 \t 114\n",
      "c14027_g1_i1 \t gi|145617263|gb|ABP88104.1| \t 70.18 \t 114\n",
      "c14027_g1_i1 \t gi|255731011|ref|XP_002550430.1| \t 75.44 \t 114\n",
      "c14027_g1_i1 \t gi|448124770|ref|XP_004205009.1| \t 73.68 \t 114\n",
      "c14027_g1_i1 \t gi|508784217|gb|EOY31473.1| \t 78.95 \t 114\n",
      "c14027_g1_i1 \t gi|557526732|gb|ESR38038.1| \t 77.19 \t 114\n",
      "c14027_g1_i1 \t gi|565364590|ref|XP_006349004.1| \t 77.19 \t 114\n",
      "c14027_g1_i1 \t gi|297834060|ref|XP_002884912.1| \t 78.95 \t 114\n",
      "c14027_g1_i1 \t gi|115464309|ref|NP_001055754.1| \t 78.95 \t 114\n",
      "c14027_g1_i1 \t gi|475566738|gb|EMT15100.1| \t 76.32 \t 114\n",
      "c14027_g1_i1 \t gi|303289903|ref|XP_003064239.1| \t 77.19 \t 114\n",
      "c14027_g1_i1 \t gi|565479066|ref|XP_006297173.1| \t 78.95 \t 114\n",
      "c14027_g1_i1 \t gi|330818765|ref|XP_003291509.1| \t 75.44 \t 114\n",
      "c14027_g1_i1 \t gi|462399305|gb|EMJ04973.1| \t 78.95 \t 114\n",
      "c14027_g1_i1 \t gi|474441223|gb|EMS68426.1| \t 77.19 \t 114\n",
      "c14027_g1_i1 \t gi|2827002|gb|AAB99745.1| \t 77.19 \t 114\n",
      "c14027_g1_i1 \t gi|186898205|gb|ACC93947.1| \t 78.07 \t 114\n",
      "c14027_g1_i1 \t gi|508786815|gb|EOY34071.1| \t 78.07 \t 114\n",
      "c14027_g1_i1 \t gi|331686221|gb|AED86992.1| \t 78.07 \t 114\n",
      "c14027_g1_i1 \t gi|60280518|gb|AAX18241.1| \t 70.18 \t 114\n",
      "c14027_g1_i1 \t gi|557529652|gb|ESR40902.1| \t 78.07 \t 114\n",
      "c14027_g1_i1 \t gi|168014669|ref|XP_001759874.1| \t 78.07 \t 114\n",
      "c14027_g1_i1 \t gi|557526733|gb|ESR38039.1| \t 78.95 \t 114\n",
      "c14027_g1_i1 \t gi|475523011|gb|EMT06830.1| \t 78.07 \t 114\n",
      "c14027_g1_i1 \t gi|297810343|ref|XP_002873055.1| \t 76.32 \t 114\n",
      "c14027_g1_i1 \t gi|555704815|gb|ESO08048.1| \t 72.81 \t 114\n",
      "c14027_g1_i1 \t gi|302788901|ref|XP_002976219.1| \t 78.07 \t 114\n",
      "c14027_g1_i1 \t gi|302810874|ref|XP_002987127.1| \t 78.07 \t 114\n",
      "c14027_g1_i1 \t gi|50551349|ref|XP_503148.1| \t 76.32 \t 114\n",
      "c14027_g1_i1 \t gi|556522445|emb|CDJ25771.1| \t 73.68 \t 114\n",
      "c14027_g1_i1 \t gi|348499350|gb|AEP68850.1| \t 71.93 \t 114\n",
      "c14027_g1_i1 \t gi|297850024|ref|XP_002892893.1| \t 77.19 \t 114\n",
      "c14027_g1_i1 \t gi|242072786|ref|XP_002446329.1| \t 78.95 \t 114\n",
      "c14027_g1_i1 \t gi|556515519|emb|CDJ18753.1| \t 73.68 \t 114\n",
      "c14027_g1_i1 \t gi|29336623|sp|Q24789.1|HSP70_ECHGR \t 73.68 \t 114\n",
      "c14027_g1_i1 \t gi|527100653|dbj|BAN65384.1| \t 71.93 \t 114\n",
      "c14027_g1_i1 \t gi|27902253|gb|AAO26707.1|AF474951_1 \t 71.05 \t 114\n",
      "c14027_g1_i1 \t gi|161702921|gb|ABX76301.1| \t 77.19 \t 114\n",
      "c14027_g1_i1 \t gi|564375949|ref|XP_006248069.1| \t 71.93 \t 114\n",
      "c14027_g1_i1 \t gi|24415605|gb|AAN52150.1| \t 75.44 \t 114\n",
      "c14027_g1_i1 \t gi|473936070|gb|EMS50129.1| \t 76.32 \t 114\n",
      "c14027_g1_i1 \t gi|53829568|gb|AAU94663.1| \t 75.44 \t 114\n",
      "c14027_g1_i1 \t gi|366992329|ref|XP_003675930.1| \t 74.56 \t 114\n",
      "c14027_g1_i1 \t gi|15620767|emb|CAC69880.1| \t 76.32 \t 114\n",
      "c14027_g1_i1 \t gi|472585418|gb|EMS22972.1| \t 75.44 \t 114\n",
      "c14027_g1_i1 \t gi|557108465|gb|ESQ48772.1| \t 78.07 \t 114\n",
      "c14027_g1_i1 \t gi|50420953|ref|XP_459019.1| \t 74.56 \t 114\n",
      "c14027_g1_i1 \t gi|356502432|ref|XP_003520023.1| \t 78.07 \t 114\n",
      "c14027_g1_i1 \t gi|410932177|ref|XP_003979470.1| \t 73.68 \t 114\n",
      "c14027_g1_i1 \t gi|26985219|gb|AAN86274.1| \t 78.07 \t 114\n",
      "c14027_g1_i1 \t gi|344304775|gb|EGW35007.1| \t 73.68 \t 114\n",
      "c14027_g1_i1 \t gi|523423703|emb|CDF90016.1| \t 71.93 \t 114\n",
      "c14027_g1_i1 \t gi|125719300|gb|ABN54440.1| \t 72.41 \t 116\n",
      "c14027_g1_i1 \t gi|365981455|ref|XP_003667561.1| \t 75.44 \t 114\n",
      "c14027_g1_i1 \t gi|513033289|gb|AGO13261.1| \t 74.56 \t 114\n",
      "c14027_g1_i1 \t gi|45198632|ref|NP_985661.1| \t 74.56 \t 114\n",
      "c14027_g1_i1 \t gi|158262600|gb|AAI54390.1| \t 71.93 \t 114\n",
      "c14027_g1_i1 \t gi|508726275|gb|EOY18172.1| \t 78.07 \t 114\n",
      "c14027_g1_i1 \t gi|239950215|gb|ACS36776.1| \t 73.68 \t 114\n",
      "c14027_g1_i1 \t gi|111120231|dbj|BAF02622.1| \t 76.32 \t 114\n",
      "c14027_g1_i1 \t gi|470133735|ref|XP_004302715.1| \t 78.07 \t 114\n",
      "c14027_g1_i1 \t gi|399216278|emb|CCF72966.1| \t 76.32 \t 114\n",
      "c14027_g1_i1 \t gi|542264735|ref|XP_005466824.1| \t 71.93 \t 114\n",
      "c14027_g1_i1 \t gi|450880|emb|CAA54419.1| \t 75.44 \t 114\n",
      "c14027_g1_i1 \t gi|557766671|ref|XP_005183030.1| \t 77.19 \t 114\n",
      "c14027_g1_i1 \t gi|164422265|gb|ABY55233.1| \t 73.68 \t 114\n",
      "c14027_g1_i1 \t gi|94470205|gb|ABF20530.1| \t 72.81 \t 114\n",
      "c14027_g1_i1 \t gi|212277032|gb|ACJ22906.1| \t 73.68 \t 114\n",
      "c14027_g1_i1 \t gi|74179642|dbj|BAE22472.1| \t 71.93 \t 114\n",
      "c14027_g1_i1 \t gi|48766851|gb|AAT46566.1| \t 72.81 \t 114\n",
      "c14027_g1_i1 \t gi|26422391|gb|AAN78300.1| \t 72.81 \t 114\n",
      "c14027_g1_i1 \t gi|58373286|gb|AAW71958.1| \t 72.81 \t 114\n",
      "c14027_g1_i1 \t gi|269994458|dbj|BAI50393.1| \t 71.93 \t 114\n",
      "c14027_g1_i1 \t gi|12044387|gb|AAG47839.1|AF318605_1 \t 72.81 \t 114\n",
      "c14027_g1_i1 \t gi|260943390|ref|XP_002615993.1| \t 75.44 \t 114\n",
      "c14027_g1_i1 \t gi|156454274|gb|ABU63810.1| \t 72.81 \t 114\n",
      "c14027_g1_i1 \t gi|392465167|dbj|BAM24707.1| \t 77.19 \t 114\n"
     ]
    }
   ],
   "source": [
    "filehandle = open(\"sampleBlastOutput .txt\", \"r\")\n",
    "for line in filehandle:\n",
    "    line.rstrip()\n",
    "    percent_id = line.split()[2] \n",
    "    query_id = line.split()[0] \n",
    "    subject_id = line.split()[1] \n",
    "    align_len = line.split()[3] \n",
    "    if float(percent_id) > 70:\n",
    "        print (query_id,'\\t',subject_id,'\\t',percent_id,'\\t',align_len)\n",
    "    "
   ]
  },
  {
   "cell_type": "code",
   "execution_count": null,
   "metadata": {},
   "outputs": [],
   "source": [
    "\"\"\"\n",
    "Part3: Open /scratch/Drosophila/oligos.fasta and read the entire file\n",
    "directly into an array. Do not use a while loop to read the contents into an array. Next, create a\n",
    "function called passByCopy and pass the array (pass by value) to the newly created\n",
    "function. Inside your function change the first element of the array (located at the 0\n",
    "index) to \"changed\". Then add a print statement that prints out the first 3 elements\n",
    "of the altered array within the function.\n",
    "\"\"\""
   ]
  },
  {
   "cell_type": "code",
   "execution_count": 15,
   "metadata": {},
   "outputs": [
    {
     "name": "stdout",
     "output_type": "stream",
     "text": [
      ">CG18721shmi-1\n",
      "\n",
      "CTGAGCGACGACATTGATGTA\n",
      "\n",
      ">CG18721shmi-2\n",
      "\n",
      "changed\n",
      "CTGAGCGACGACATTGATGTA\n",
      "\n",
      ">CG18721shmi-2\n",
      "\n",
      "changed\n",
      "CTGAGCGACGACATTGATGTA\n",
      "\n",
      ">CG18721shmi-2\n",
      "\n"
     ]
    }
   ],
   "source": [
    "filehandle = open(\"oligos.fasta\", \"r\")\n",
    "file_list = []\n",
    "for line in filehandle:\n",
    "    file_list.append(line)\n",
    "print (\"\\n\".join(file_list[0:3]))\n",
    "def passByCopy(file_list1):\n",
    "    file_list1[0] = 'changed'\n",
    "    print ('\\n'.join(file_list1[0:3]))\n",
    "passByCopy(file_list)\n",
    "print ('\\n'.join(file_list[0:3]))"
   ]
  },
  {
   "cell_type": "code",
   "execution_count": null,
   "metadata": {},
   "outputs": [],
   "source": []
  }
 ],
 "metadata": {
  "kernelspec": {
   "display_name": "Python 2",
   "language": "python",
   "name": "python2"
  },
  "language_info": {
   "codemirror_mode": {
    "name": "ipython",
    "version": 3
   },
   "file_extension": ".py",
   "mimetype": "text/x-python",
   "name": "python",
   "nbconvert_exporter": "python",
   "pygments_lexer": "ipython3",
   "version": "3.7.0"
  }
 },
 "nbformat": 4,
 "nbformat_minor": 2
}
