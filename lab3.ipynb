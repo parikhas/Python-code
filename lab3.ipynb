{
 "cells": [
  {
   "cell_type": "code",
   "execution_count": 14,
   "metadata": {},
   "outputs": [
    {
     "name": "stdout",
     "output_type": "stream",
     "text": [
      "Total cost: $13.33\n",
      "Items not available: pasta, squash\n"
     ]
    }
   ],
   "source": [
    "inventory = {\n",
    "    \"orange\":.75,\n",
    "    \"apple\": .60,\n",
    "    \"banana\": .25,\n",
    "    \"bread\": 3.99,\n",
    "    \"eggs\":3.10,\n",
    "    \"milk\": 3.50,\n",
    "    \"butter\": 2.75,\n",
    "    \"tomato\": 1.99,\n",
    "    \"spinach\": 2.99,\n",
    "    \"chicken\": 3.89\n",
    "}\n",
    "\n",
    "groceryList = ['pasta', 'eggs', 'butter', 'apple', 'squash', 'spinach', 'chicken']\n",
    "groc_invt = []\n",
    "no_groc = []\n",
    "\n",
    "for grocery in groceryList:\n",
    "    if grocery in inventory:\n",
    "        groc_invt.append(inventory[grocery])\n",
    "    else:\n",
    "        no_groc.append(grocery)\n",
    "print \"Total cost: $\"+str(sum(groc_invt))\n",
    "print \"Items not available:\", ', '.join(no_groc)\n"
   ]
  },
  {
   "cell_type": "code",
   "execution_count": null,
   "metadata": {},
   "outputs": [],
   "source": []
  }
 ],
 "metadata": {
  "kernelspec": {
   "display_name": "Python 2",
   "language": "python",
   "name": "python2"
  },
  "language_info": {
   "codemirror_mode": {
    "name": "ipython",
    "version": 2
   },
   "file_extension": ".py",
   "mimetype": "text/x-python",
   "name": "python",
   "nbconvert_exporter": "python",
   "pygments_lexer": "ipython2",
   "version": "2.7.12"
  }
 },
 "nbformat": 4,
 "nbformat_minor": 2
}
