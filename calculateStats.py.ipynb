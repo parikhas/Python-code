{
 "cells": [
  {
   "cell_type": "code",
   "execution_count": 2,
   "metadata": {},
   "outputs": [
    {
     "name": "stdout",
     "output_type": "stream",
     "text": [
      "Nan Count= 1\n",
      "Count = 124\n",
      "Mean = 57.621\n",
      "Variance = 304.397\n",
      "Std Deviation = 17.447\n",
      "Max = 97\n",
      "Min = 16\n",
      "Median = 58.0\n"
     ]
    }
   ],
   "source": [
    "########################################################################\n",
    "# \n",
    "# File   :  calculateStats.py\n",
    "# History:  March 20, 2018 (Ashmi Parikh) - Wrote the code\n",
    "#           \n",
    "#           \n",
    "########################################################################\n",
    "#\n",
    "# This program calculates the descriptive statistics of a given file. It\n",
    "# takes to arguments as input file name and column number to find descriptive\n",
    "# statistics on.\n",
    "# Sample command for executing the program:\n",
    "# python descriptiveStatistics.py -f datafile.txt -c 3\n",
    "########################################################################\n",
    "\n",
    "import numpy as np\n",
    "import sys, os\n",
    "import argparse\n",
    "\n",
    "def myfunc(filename, column):\n",
    "    filehandle = open(filename, \"r\")\n",
    "\n",
    "    col1 = []\n",
    "    nan = []\n",
    "\n",
    "    for line in filehandle:\n",
    "        val_col = line.split('\\t')[column]\n",
    "        if val_col.upper() == \"NAN\":\n",
    "            nan.append (val_col)\n",
    "            continue\n",
    "        else:\n",
    "            col1.append( int (val_col))\n",
    "                \n",
    "      #  col1.append( int (line.split('\\t')[column]) )\n",
    "    print 'Nan Count=', len(nan)\n",
    "    print 'Count =', len(col1)\n",
    "    print 'Mean =', round((float(sum(col1)))/len(col1), 3)\n",
    "    print 'Variance =', round(np.var(col1), 3)\n",
    "    print 'Std Deviation =', round(np.std(col1), 3)\n",
    "    print 'Max =', np.max(col1)\n",
    "    print 'Min =', np.min(col1)\n",
    "    print 'Median =', np.median(col1)\n",
    "    \n",
    "\n",
    "if __name__ == '__main__':\n",
    "\n",
    "    sys.argv = ['test.py','-f', 'dataFile2.txt', '-c', '3']\n",
    "        \n",
    "    #print sys.argv\n",
    "    \n",
    "    parser = argparse.ArgumentParser(description='Find Descriptive Statistics for a file and a column in the file')\n",
    "\n",
    "    parser.add_argument('-f','--file', dest='filename',\n",
    "                       type=str, help='Path to the file to open', required=True)\n",
    "    parser.add_argument('-c','--column', dest='column',\n",
    "                       type=int, help='Column to parse in the file to open', required=True)\n",
    "\n",
    "    args = parser.parse_args()\n",
    "    #print args\n",
    "    #print args.filename\n",
    "    #print args.column\n",
    "    myfunc(args.filename, args.column)\n",
    "    #main(args.file, args.column)\n"
   ]
  },
  {
   "cell_type": "code",
   "execution_count": null,
   "metadata": {},
   "outputs": [],
   "source": []
  },
  {
   "cell_type": "code",
   "execution_count": null,
   "metadata": {},
   "outputs": [],
   "source": []
  }
 ],
 "metadata": {
  "kernelspec": {
   "display_name": "Python 2",
   "language": "python",
   "name": "python2"
  },
  "language_info": {
   "codemirror_mode": {
    "name": "ipython",
    "version": 2
   },
   "file_extension": ".py",
   "mimetype": "text/x-python",
   "name": "python",
   "nbconvert_exporter": "python",
   "pygments_lexer": "ipython2",
   "version": "2.7.12"
  }
 },
 "nbformat": 4,
 "nbformat_minor": 2
}
